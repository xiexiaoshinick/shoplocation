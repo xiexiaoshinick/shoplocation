{
 "cells": [
  {
   "cell_type": "markdown",
   "metadata": {},
   "source": [
    "群里那个**wifi_baseline.py**是我第一次提交时候的代码，直接读的话会比较吃力，特意写了这个说明文档，顺带介绍下规则做法还有一开始的思路"
   ]
  },
  {
   "cell_type": "code",
   "execution_count": 1,
   "metadata": {
    "collapsed": true
   },
   "outputs": [],
   "source": [
    "import pandas as pd\n",
    "from collections import defaultdict"
   ]
  },
  {
   "cell_type": "markdown",
   "metadata": {},
   "source": [
    "先是读取文件并大概看下数据长啥样"
   ]
  },
  {
   "cell_type": "code",
   "execution_count": 2,
   "metadata": {},
   "outputs": [
    {
     "data": {
      "text/html": [
       "<div>\n",
       "<style>\n",
       "    .dataframe thead tr:only-child th {\n",
       "        text-align: right;\n",
       "    }\n",
       "\n",
       "    .dataframe thead th {\n",
       "        text-align: left;\n",
       "    }\n",
       "\n",
       "    .dataframe tbody tr th {\n",
       "        vertical-align: top;\n",
       "    }\n",
       "</style>\n",
       "<table border=\"1\" class=\"dataframe\">\n",
       "  <thead>\n",
       "    <tr style=\"text-align: right;\">\n",
       "      <th></th>\n",
       "      <th>user_id</th>\n",
       "      <th>shop_id</th>\n",
       "      <th>time_stamp</th>\n",
       "      <th>longitude</th>\n",
       "      <th>latitude</th>\n",
       "      <th>wifi_infos</th>\n",
       "    </tr>\n",
       "  </thead>\n",
       "  <tbody>\n",
       "    <tr>\n",
       "      <th>0</th>\n",
       "      <td>u_376</td>\n",
       "      <td>s_2871718</td>\n",
       "      <td>2017-08-06 21:20</td>\n",
       "      <td>122.308291</td>\n",
       "      <td>32.088040</td>\n",
       "      <td>b_6396480|-67|false;b_41124514|-86|false;b_287...</td>\n",
       "    </tr>\n",
       "    <tr>\n",
       "      <th>1</th>\n",
       "      <td>u_376</td>\n",
       "      <td>s_2871718</td>\n",
       "      <td>2017-08-06 21:20</td>\n",
       "      <td>122.308162</td>\n",
       "      <td>32.087970</td>\n",
       "      <td>b_6396480|-67|false;b_56328155|-73|false;b_411...</td>\n",
       "    </tr>\n",
       "    <tr>\n",
       "      <th>2</th>\n",
       "      <td>u_1041</td>\n",
       "      <td>s_181637</td>\n",
       "      <td>2017-08-02 13:10</td>\n",
       "      <td>117.365255</td>\n",
       "      <td>40.638214</td>\n",
       "      <td>b_8006367|-78|false;b_2485110|-52|false;b_3005...</td>\n",
       "    </tr>\n",
       "    <tr>\n",
       "      <th>3</th>\n",
       "      <td>u_1158</td>\n",
       "      <td>s_609470</td>\n",
       "      <td>2017-08-13 12:30</td>\n",
       "      <td>121.134451</td>\n",
       "      <td>31.197416</td>\n",
       "      <td>b_26250579|-73|false;b_26250580|-64|false;b_26...</td>\n",
       "    </tr>\n",
       "    <tr>\n",
       "      <th>4</th>\n",
       "      <td>u_1654</td>\n",
       "      <td>s_3816766</td>\n",
       "      <td>2017-08-25 19:50</td>\n",
       "      <td>122.255867</td>\n",
       "      <td>31.351320</td>\n",
       "      <td>b_39004150|-66|false;b_39004148|-58|false;b_21...</td>\n",
       "    </tr>\n",
       "  </tbody>\n",
       "</table>\n",
       "</div>"
      ],
      "text/plain": [
       "  user_id    shop_id        time_stamp   longitude   latitude  \\\n",
       "0   u_376  s_2871718  2017-08-06 21:20  122.308291  32.088040   \n",
       "1   u_376  s_2871718  2017-08-06 21:20  122.308162  32.087970   \n",
       "2  u_1041   s_181637  2017-08-02 13:10  117.365255  40.638214   \n",
       "3  u_1158   s_609470  2017-08-13 12:30  121.134451  31.197416   \n",
       "4  u_1654  s_3816766  2017-08-25 19:50  122.255867  31.351320   \n",
       "\n",
       "                                          wifi_infos  \n",
       "0  b_6396480|-67|false;b_41124514|-86|false;b_287...  \n",
       "1  b_6396480|-67|false;b_56328155|-73|false;b_411...  \n",
       "2  b_8006367|-78|false;b_2485110|-52|false;b_3005...  \n",
       "3  b_26250579|-73|false;b_26250580|-64|false;b_26...  \n",
       "4  b_39004150|-66|false;b_39004148|-58|false;b_21...  "
      ]
     },
     "execution_count": 2,
     "metadata": {},
     "output_type": "execute_result"
    }
   ],
   "source": [
    "user_shop_hehavior = pd.read_csv('ccf_first_round_user_shop_behavior.csv')\n",
    "user_shop_hehavior.head()"
   ]
  },
  {
   "cell_type": "code",
   "execution_count": 3,
   "metadata": {},
   "outputs": [
    {
     "data": {
      "text/html": [
       "<div>\n",
       "<style>\n",
       "    .dataframe thead tr:only-child th {\n",
       "        text-align: right;\n",
       "    }\n",
       "\n",
       "    .dataframe thead th {\n",
       "        text-align: left;\n",
       "    }\n",
       "\n",
       "    .dataframe tbody tr th {\n",
       "        vertical-align: top;\n",
       "    }\n",
       "</style>\n",
       "<table border=\"1\" class=\"dataframe\">\n",
       "  <thead>\n",
       "    <tr style=\"text-align: right;\">\n",
       "      <th></th>\n",
       "      <th>row_id</th>\n",
       "      <th>user_id</th>\n",
       "      <th>mall_id</th>\n",
       "      <th>time_stamp</th>\n",
       "      <th>longitude</th>\n",
       "      <th>latitude</th>\n",
       "      <th>wifi_infos</th>\n",
       "    </tr>\n",
       "  </thead>\n",
       "  <tbody>\n",
       "    <tr>\n",
       "      <th>0</th>\n",
       "      <td>118742</td>\n",
       "      <td>u_30097142</td>\n",
       "      <td>m_3916</td>\n",
       "      <td>2017-09-05 13:00</td>\n",
       "      <td>122.141011</td>\n",
       "      <td>39.818847</td>\n",
       "      <td>b_34366982|-82|false;b_37756289|-53|false;b_41...</td>\n",
       "    </tr>\n",
       "    <tr>\n",
       "      <th>1</th>\n",
       "      <td>118743</td>\n",
       "      <td>u_30097803</td>\n",
       "      <td>m_5085</td>\n",
       "      <td>2017-09-06 13:10</td>\n",
       "      <td>118.191907</td>\n",
       "      <td>32.855858</td>\n",
       "      <td>b_36722251|-81|false;b_10537579|-75|false;b_43...</td>\n",
       "    </tr>\n",
       "    <tr>\n",
       "      <th>2</th>\n",
       "      <td>118744</td>\n",
       "      <td>u_30097889</td>\n",
       "      <td>m_4033</td>\n",
       "      <td>2017-09-06 17:40</td>\n",
       "      <td>119.192110</td>\n",
       "      <td>32.424667</td>\n",
       "      <td>b_30026291|-74|false;b_30026290|-74|false;b_36...</td>\n",
       "    </tr>\n",
       "    <tr>\n",
       "      <th>3</th>\n",
       "      <td>118745</td>\n",
       "      <td>u_30098996</td>\n",
       "      <td>m_4515</td>\n",
       "      <td>2017-09-03 12:10</td>\n",
       "      <td>120.612201</td>\n",
       "      <td>34.055249</td>\n",
       "      <td>b_33412374|-77|false;b_22084893|-86|false;b_52...</td>\n",
       "    </tr>\n",
       "    <tr>\n",
       "      <th>4</th>\n",
       "      <td>118746</td>\n",
       "      <td>u_30099170</td>\n",
       "      <td>m_7168</td>\n",
       "      <td>2017-09-02 20:40</td>\n",
       "      <td>116.861989</td>\n",
       "      <td>40.326858</td>\n",
       "      <td>b_19882704|-77|false;b_2241462|-49|false;b_585...</td>\n",
       "    </tr>\n",
       "  </tbody>\n",
       "</table>\n",
       "</div>"
      ],
      "text/plain": [
       "   row_id     user_id mall_id        time_stamp   longitude   latitude  \\\n",
       "0  118742  u_30097142  m_3916  2017-09-05 13:00  122.141011  39.818847   \n",
       "1  118743  u_30097803  m_5085  2017-09-06 13:10  118.191907  32.855858   \n",
       "2  118744  u_30097889  m_4033  2017-09-06 17:40  119.192110  32.424667   \n",
       "3  118745  u_30098996  m_4515  2017-09-03 12:10  120.612201  34.055249   \n",
       "4  118746  u_30099170  m_7168  2017-09-02 20:40  116.861989  40.326858   \n",
       "\n",
       "                                          wifi_infos  \n",
       "0  b_34366982|-82|false;b_37756289|-53|false;b_41...  \n",
       "1  b_36722251|-81|false;b_10537579|-75|false;b_43...  \n",
       "2  b_30026291|-74|false;b_30026290|-74|false;b_36...  \n",
       "3  b_33412374|-77|false;b_22084893|-86|false;b_52...  \n",
       "4  b_19882704|-77|false;b_2241462|-49|false;b_585...  "
      ]
     },
     "execution_count": 3,
     "metadata": {},
     "output_type": "execute_result"
    }
   ],
   "source": [
    "evalution = pd.read_csv('evaluation_public.csv')\n",
    "evalution.head()"
   ]
  },
  {
   "cell_type": "markdown",
   "metadata": {},
   "source": [
    "看了下数据说明，打算先从wifi入手，于是就有了一个想法，**同一家店周围的wifi应该差不多**\n",
    "\n",
    "接下来是想法转换成规则\n",
    "\n",
    "就数据来看，需要把**wifi_infos**转化为**shop_id**"
   ]
  },
  {
   "cell_type": "markdown",
   "metadata": {},
   "source": [
    "## 实现规则\n",
    "\n",
    "思考一下：凭什么看见这些wifi就能推断出是这家店\n",
    "\n",
    "**因为逛这家店的周围总是这些wifi**\n",
    "\n",
    "有了这个想法就简单了\n",
    "\n",
    "那就统计每个wifi和每个shop的关联数吧"
   ]
  },
  {
   "cell_type": "code",
   "execution_count": 4,
   "metadata": {
    "collapsed": true
   },
   "outputs": [],
   "source": [
    "wifi_to_shops = defaultdict(lambda : defaultdict(lambda :0)) # 默认字典嵌套  wifi_to_shops[wifi][shop]为wifi与shop的关联个数\n",
    "for line in user_shop_hehavior.values:\n",
    "    wifi = [wifi.split('|') for wifi in line[5].split(';')]\n",
    "    for each_wifi in wifi:\n",
    "        wifi_to_shops[each_wifi[0]][line[1]] += 1 # each_wifi[0] 表示wifi的bssid  line[1]表示shop_id"
   ]
  },
  {
   "cell_type": "markdown",
   "metadata": {},
   "source": [
    "有了这个小框架就能添想法了\n",
    "\n",
    "比如这个想法：有的wifi信号太差，别的不一定收得到，那就干脆不要了\n",
    "\n",
    "代码实现：那就添加个topK"
   ]
  },
  {
   "cell_type": "code",
   "execution_count": 5,
   "metadata": {
    "collapsed": true
   },
   "outputs": [],
   "source": [
    "topK = 5\n",
    "wifi_to_shops = defaultdict(lambda : defaultdict(lambda :0)) # 默认字典嵌套  wifi_to_shops[wifi][shop]为wifi与shop的关联个数\n",
    "for line in user_shop_hehavior.values:\n",
    "    wifi = sorted([wifi.split('|') for wifi in line[5].split(';')],key=lambda x:int(x[1]),reverse=True)[:topK]\n",
    "    for each_wifi in wifi:\n",
    "        wifi_to_shops[each_wifi[0]][line[1]] += 1 # each_wifi[0] 表示wifi的bssid  line[1]表示shop_id"
   ]
  },
  {
   "cell_type": "markdown",
   "metadata": {},
   "source": [
    "想法：信号强的wifi肯定重要点\n",
    "\n",
    "代码：加权统计"
   ]
  },
  {
   "cell_type": "code",
   "execution_count": 6,
   "metadata": {
    "collapsed": true
   },
   "outputs": [],
   "source": [
    "topK_weights = [5,4,3,2,1]\n",
    "wifi_to_shops = defaultdict(lambda : defaultdict(lambda :0)) # 默认字典嵌套  wifi_to_shops[wifi][shop]为wifi与shop的关联个数\n",
    "for line in user_shop_hehavior.values:\n",
    "    wifi = sorted([wifi.split('|') for wifi in line[5].split(';')],key=lambda x:int(x[1]),reverse=True)[:len(topK_weights)]\n",
    "    for i,each_wifi in enumerate(wifi):\n",
    "        wifi_to_shops[each_wifi[0]][line[1]] += topK_weights[i] # each_wifi[0] 表示wifi的bssid  line[1]表示shop_id"
   ]
  },
  {
   "cell_type": "markdown",
   "metadata": {},
   "source": [
    "想法：连接着的wifi虽然不一定有别的信号强，但也挺重要的\n",
    "\n",
    "代码：单独设权"
   ]
  },
  {
   "cell_type": "code",
   "execution_count": 7,
   "metadata": {
    "collapsed": true
   },
   "outputs": [],
   "source": [
    "topK_weights = [5,4,3,2,1]\n",
    "connect_weight = 5\n",
    "wifi_to_shops = defaultdict(lambda : defaultdict(lambda :0)) # 默认字典嵌套  wifi_to_shops[wifi][shop]为wifi与shop的关联个数\n",
    "for line in user_shop_hehavior.values:\n",
    "    wifi = sorted([wifi.split('|') for wifi in line[5].split(';')],key=lambda x:int(x[1]),reverse=True)[:len(topK_weights)]\n",
    "    for i,each_wifi in enumerate(wifi):\n",
    "        if each_wifi[2] == 'true':\n",
    "            wifi_to_shops[each_wifi[0]][line[1]] += connect_weight # 单独设权\n",
    "        else:\n",
    "            wifi_to_shops[each_wifi[0]][line[1]] += topK_weights[i] # each_wifi[0] 表示wifi的bssid  line[1]表示shop_id"
   ]
  },
  {
   "cell_type": "markdown",
   "metadata": {},
   "source": [
    "随便挑一个wifi来看看"
   ]
  },
  {
   "cell_type": "code",
   "execution_count": 8,
   "metadata": {},
   "outputs": [
    {
     "data": {
      "text/plain": [
       "defaultdict(<function __main__.<lambda>.<locals>.<lambda>>,\n",
       "            {'s_1877554': 6, 's_2871718': 132, 's_580441': 9})"
      ]
     },
     "execution_count": 8,
     "metadata": {},
     "output_type": "execute_result"
    }
   ],
   "source": [
    "wifi_to_shops['b_6396480']"
   ]
  },
  {
   "cell_type": "markdown",
   "metadata": {},
   "source": [
    "## 线下尝试"
   ]
  },
  {
   "cell_type": "markdown",
   "metadata": {},
   "source": [
    "规则做线下，一方面可以检测规则是否写错，另一方面可以很好地调整参数"
   ]
  },
  {
   "cell_type": "markdown",
   "metadata": {},
   "source": [
    "对于上面做好的wifi_to_shops，怎么根据周围的wifi来预测shop呢？\n",
    "\n",
    "**那就加起来呗，谁分高选谁**\n",
    "\n",
    "和上面的思路差不多，也是整个topK"
   ]
  },
  {
   "cell_type": "code",
   "execution_count": 9,
   "metadata": {},
   "outputs": [
    {
     "name": "stdout",
     "output_type": "stream",
     "text": [
      "acc: 0.7634486364415232\n"
     ]
    }
   ],
   "source": [
    "right_count = 0\n",
    "result_topK = 5 #根据周围最强的k个wifi来预测\n",
    "for line in user_shop_hehavior.values:\n",
    "    wifi = sorted([wifi.split('|') for wifi in line[5].split(';')],key=lambda x:int(x[1]),reverse=True)[:result_topK]\n",
    "    counter = defaultdict(lambda : 0) #统计每家店的得分\n",
    "    for each_wifi in wifi:\n",
    "        for k,v in wifi_to_shops[each_wifi[0]].items():\n",
    "            counter[k] += v\n",
    "    pred_one = sorted(counter.items(),key=lambda x:x[1],reverse=True)[0][0]\n",
    "    if pred_one == line[1]:\n",
    "        right_count += 1\n",
    "print('acc:',1.0*right_count/len(user_shop_hehavior))"
   ]
  },
  {
   "cell_type": "markdown",
   "metadata": {},
   "source": [
    "## 暴力调参"
   ]
  },
  {
   "cell_type": "markdown",
   "metadata": {},
   "source": [
    "规则比较有趣的地方就是你的思路不用先想好具体的值，只要定好思路，然后让电脑试就行了"
   ]
  },
  {
   "cell_type": "code",
   "execution_count": 11,
   "metadata": {},
   "outputs": [
    {
     "name": "stdout",
     "output_type": "stream",
     "text": [
      "[5, 4, 3, 2, 1] 5 1 acc: 0.8371339569337838\n",
      "[5, 4, 3, 2, 1] 5 5 acc: 0.7634486364415232\n",
      "[5, 4, 3, 2, 1] 5 2 acc: 0.8163609442757784\n",
      "[5, 4, 3, 2, 1] 5 10 acc: 0.6895656032653348\n",
      "[5, 4, 3, 2, 1] 10 1 acc: 0.8391198710034578\n",
      "[5, 4, 3, 2, 1] 10 5 acc: 0.7648598656432473\n",
      "[5, 4, 3, 2, 1] 10 2 acc: 0.8179962478526206\n",
      "[5, 4, 3, 2, 1] 10 10 acc: 0.6905506517928147\n",
      "[5, 4, 3, 2, 1] 2.5 1 acc: 0.8350619280062214\n",
      "[5, 4, 3, 2, 1] 2.5 5 acc: 0.7625470666028128\n",
      "[5, 4, 3, 2, 1] 2.5 2 acc: 0.8149743193191654\n",
      "[5, 4, 3, 2, 1] 2.5 10 acc: 0.688580554737855\n",
      "[3, 2, 1] 3 1 acc: 0.8546152730851526\n",
      "[3, 2, 1] 3 3 acc: 0.8104655914025738\n",
      "[3, 2, 1] 3 1 acc: 0.8546152730851526\n",
      "[3, 2, 1] 3 10 acc: 0.6885972504756088\n",
      "[3, 2, 1] 6 1 acc: 0.855538810999855\n",
      "[3, 2, 1] 6 3 acc: 0.8113135591358638\n",
      "[3, 2, 1] 6 1 acc: 0.855538810999855\n",
      "[3, 2, 1] 6 10 acc: 0.6895190309442318\n",
      "[3, 2, 1] 1.5 1 acc: 0.8531996502682302\n",
      "[3, 2, 1] 1.5 3 acc: 0.8093979429093641\n",
      "[3, 2, 1] 1.5 1 acc: 0.8531996502682302\n",
      "[3, 2, 1] 1.5 10 acc: 0.6872686212396146\n",
      "[1] 1 1 acc: 0.8704691941670365\n",
      "[1] 1 1 acc: 0.8704691941670365\n"
     ]
    },
    {
     "ename": "IndexError",
     "evalue": "list index out of range",
     "output_type": "error",
     "traceback": [
      "\u001b[1;31m---------------------------------------------------------------------------\u001b[0m",
      "\u001b[1;31mIndexError\u001b[0m                                Traceback (most recent call last)",
      "\u001b[1;32m<ipython-input-11-d48ec27f59b7>\u001b[0m in \u001b[0;36m<module>\u001b[1;34m()\u001b[0m\n\u001b[0;32m     25\u001b[0m                     \u001b[1;32mfor\u001b[0m \u001b[0mk\u001b[0m\u001b[1;33m,\u001b[0m\u001b[0mv\u001b[0m \u001b[1;32min\u001b[0m \u001b[0mwifi_to_shops\u001b[0m\u001b[1;33m[\u001b[0m\u001b[0meach_wifi\u001b[0m\u001b[1;33m[\u001b[0m\u001b[1;36m0\u001b[0m\u001b[1;33m]\u001b[0m\u001b[1;33m]\u001b[0m\u001b[1;33m.\u001b[0m\u001b[0mitems\u001b[0m\u001b[1;33m(\u001b[0m\u001b[1;33m)\u001b[0m\u001b[1;33m:\u001b[0m\u001b[1;33m\u001b[0m\u001b[0m\n\u001b[0;32m     26\u001b[0m                         \u001b[0mcounter\u001b[0m\u001b[1;33m[\u001b[0m\u001b[0mk\u001b[0m\u001b[1;33m]\u001b[0m \u001b[1;33m+=\u001b[0m \u001b[0mv\u001b[0m\u001b[1;33m\u001b[0m\u001b[0m\n\u001b[1;32m---> 27\u001b[1;33m                 \u001b[0mpred_one\u001b[0m \u001b[1;33m=\u001b[0m \u001b[0msorted\u001b[0m\u001b[1;33m(\u001b[0m\u001b[0mcounter\u001b[0m\u001b[1;33m.\u001b[0m\u001b[0mitems\u001b[0m\u001b[1;33m(\u001b[0m\u001b[1;33m)\u001b[0m\u001b[1;33m,\u001b[0m\u001b[0mkey\u001b[0m\u001b[1;33m=\u001b[0m\u001b[1;32mlambda\u001b[0m \u001b[0mx\u001b[0m\u001b[1;33m:\u001b[0m\u001b[0mx\u001b[0m\u001b[1;33m[\u001b[0m\u001b[1;36m1\u001b[0m\u001b[1;33m]\u001b[0m\u001b[1;33m,\u001b[0m\u001b[0mreverse\u001b[0m\u001b[1;33m=\u001b[0m\u001b[1;32mTrue\u001b[0m\u001b[1;33m)\u001b[0m\u001b[1;33m[\u001b[0m\u001b[1;36m0\u001b[0m\u001b[1;33m]\u001b[0m\u001b[1;33m[\u001b[0m\u001b[1;36m0\u001b[0m\u001b[1;33m]\u001b[0m\u001b[1;33m\u001b[0m\u001b[0m\n\u001b[0m\u001b[0;32m     28\u001b[0m                 \u001b[1;32mif\u001b[0m \u001b[0mpred_one\u001b[0m \u001b[1;33m==\u001b[0m \u001b[0mline\u001b[0m\u001b[1;33m[\u001b[0m\u001b[1;36m1\u001b[0m\u001b[1;33m]\u001b[0m\u001b[1;33m:\u001b[0m\u001b[1;33m\u001b[0m\u001b[0m\n\u001b[0;32m     29\u001b[0m                     \u001b[0mright_count\u001b[0m \u001b[1;33m+=\u001b[0m \u001b[1;36m1\u001b[0m\u001b[1;33m\u001b[0m\u001b[0m\n",
      "\u001b[1;31mIndexError\u001b[0m: list index out of range"
     ]
    }
   ],
   "source": [
    "topK_weights_list = [[5,4,3,2,1],[3,2,1],[1]]\n",
    "for topK_weights in topK_weights_list:\n",
    "    for connect_weight in [topK_weights[0],topK_weights[0]*2,topK_weights[0]/2.0]:\n",
    "        \n",
    "        #上面小框架搭好就能直接扔过来用了\n",
    "        \n",
    "        #生成规则\n",
    "        wifi_to_shops = defaultdict(lambda : defaultdict(lambda :0)) # 默认字典嵌套  wifi_to_shops[wifi][shop]为wifi与shop的关联个数\n",
    "        for line in user_shop_hehavior.values:\n",
    "            wifi = sorted([wifi.split('|') for wifi in line[5].split(';')],key=lambda x:int(x[1]),reverse=True)[:len(topK_weights)]\n",
    "            for i,each_wifi in enumerate(wifi):\n",
    "                if each_wifi[2] == 'true':\n",
    "                    wifi_to_shops[each_wifi[0]][line[1]] += connect_weight # 单独设权\n",
    "                else:\n",
    "                    wifi_to_shops[each_wifi[0]][line[1]] += topK_weights[i] # each_wifi[0] 表示wifi的bssid  line[1]表示shop_id\n",
    "\n",
    "        #线下测试\n",
    "        result_topKs = [1,len(topK_weights),int(len(topK_weights)/2),10]\n",
    "        for result_topK in result_topKs: #根据周围最强的k个wifi来预测\n",
    "            right_count = 0\n",
    "            for line in user_shop_hehavior.values:\n",
    "                wifi = sorted([wifi.split('|') for wifi in line[5].split(';')],key=lambda x:int(x[1]),reverse=True)[:result_topK]\n",
    "                counter = defaultdict(lambda : 0) #统计每家店的得分\n",
    "                for each_wifi in wifi:\n",
    "                    for k,v in wifi_to_shops[each_wifi[0]].items():\n",
    "                        counter[k] += v\n",
    "                pred_one = sorted(counter.items(),key=lambda x:x[1],reverse=True)[0][0]\n",
    "                if pred_one == line[1]:\n",
    "                    right_count += 1\n",
    "            print(topK_weights,connect_weight,result_topK,'acc:',1.0*right_count/len(user_shop_hehavior)) #算好一个输出一个 等着也算不无聊"
   ]
  },
  {
   "cell_type": "markdown",
   "metadata": {},
   "source": [
    "报错了，查看一下，不是啥大问题，反正参数也跑好了，最佳规则是[1] 1 1"
   ]
  },
  {
   "cell_type": "code",
   "execution_count": 13,
   "metadata": {},
   "outputs": [
    {
     "data": {
      "text/plain": [
       "([1], 1, 0)"
      ]
     },
     "execution_count": 13,
     "metadata": {},
     "output_type": "execute_result"
    }
   ],
   "source": [
    "topK_weights,connect_weight,result_topK"
   ]
  },
  {
   "cell_type": "markdown",
   "metadata": {},
   "source": [
    "改进后的代码如下，再跑挺耗时，就这么放着吧"
   ]
  },
  {
   "cell_type": "code",
   "execution_count": null,
   "metadata": {
    "collapsed": true
   },
   "outputs": [],
   "source": [
    "topK_weights_list = [[5,4,3,2,1],[3,2,1],[1]]\n",
    "for topK_weights in topK_weights_list:\n",
    "    for connect_weight in [topK_weights[0],topK_weights[0]*2,topK_weights[0]/2.0]:\n",
    "        \n",
    "        #上面小框架搭好就能直接扔过来用了\n",
    "        \n",
    "        #生成规则\n",
    "        wifi_to_shops = defaultdict(lambda : defaultdict(lambda :0)) # 默认字典嵌套  wifi_to_shops[wifi][shop]为wifi与shop的关联个数\n",
    "        for line in user_shop_hehavior.values:\n",
    "            wifi = sorted([wifi.split('|') for wifi in line[5].split(';')],key=lambda x:int(x[1]),reverse=True)[:len(topK_weights)]\n",
    "            for i,each_wifi in enumerate(wifi):\n",
    "                if each_wifi[2] == 'true':\n",
    "                    wifi_to_shops[each_wifi[0]][line[1]] += connect_weight # 单独设权\n",
    "                else:\n",
    "                    wifi_to_shops[each_wifi[0]][line[1]] += topK_weights[i] # each_wifi[0] 表示wifi的bssid  line[1]表示shop_id\n",
    "\n",
    "        #线下测试\n",
    "        result_topKs = [1,len(topK_weights),int(len(topK_weights)/2),10]\n",
    "        for result_topK in result_topKs: #根据周围最强的k个wifi来预测\n",
    "            if result_topK == 0:\n",
    "                break\n",
    "            right_count = 0\n",
    "            for line in user_shop_hehavior.values:\n",
    "                wifi = sorted([wifi.split('|') for wifi in line[5].split(';')],key=lambda x:int(x[1]),reverse=True)[:result_topK]\n",
    "                counter = defaultdict(lambda : 0) #统计每家店的得分\n",
    "                for each_wifi in wifi:\n",
    "                    for k,v in wifi_to_shops[each_wifi[0]].items():\n",
    "                        counter[k] += v\n",
    "                try:\n",
    "                    pred_one = sorted(counter.items(),key=lambda x:x[1],reverse=True)[0][0]\n",
    "                except:\n",
    "                    pred_one = None\n",
    "                if pred_one == line[1]:\n",
    "                    right_count += 1\n",
    "            print(topK_weights,connect_weight,result_topK,'acc:',1.0*right_count/len(user_shop_hehavior)) #算好一个输出一个 等着也算不无聊"
   ]
  },
  {
   "cell_type": "markdown",
   "metadata": {},
   "source": [
    "## 最终规则代码"
   ]
  },
  {
   "cell_type": "markdown",
   "metadata": {},
   "source": [
    "根据暴力跑出来的参数，得到最佳规则——**选信号最强的一个来统计，再根据用户周围最强的来找统计次数最多的商店**\n",
    "\n",
    "经过一点点优化，**wifi_baseline.py**就这么出来了"
   ]
  }
 ],
 "metadata": {
  "kernelspec": {
   "display_name": "Python 3",
   "language": "python",
   "name": "python3"
  },
  "language_info": {
   "codemirror_mode": {
    "name": "ipython",
    "version": 3
   },
   "file_extension": ".py",
   "mimetype": "text/x-python",
   "name": "python",
   "nbconvert_exporter": "python",
   "pygments_lexer": "ipython3",
   "version": "3.6.2"
  }
 },
 "nbformat": 4,
 "nbformat_minor": 2
}
