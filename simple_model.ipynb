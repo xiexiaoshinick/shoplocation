{
 "cells": [
  {
   "cell_type": "markdown",
   "metadata": {},
   "source": [
    "# simple_model"
   ]
  },
  {
   "cell_type": "code",
   "execution_count": 1,
   "metadata": {
    "collapsed": true
   },
   "outputs": [],
   "source": [
    "import pandas as pd\n",
    "import numpy as np\n",
    "from sklearn import  preprocessing\n",
    "import xgboost as xgb\n",
    "import lightgbm as lgb  "
   ]
  },
  {
   "cell_type": "code",
   "execution_count": 2,
   "metadata": {
    "collapsed": true
   },
   "outputs": [],
   "source": [
    "path='../data/'\n",
    "df=pd.read_csv(path+u'ccf_first_round_user_shop_behavior.csv')\n",
    "shop=pd.read_csv(path+u'ccf_first_round_shop_info.csv')\n",
    "test=pd.read_csv(path+u'evaluation_public.csv')\n",
    "df=pd.merge(df,shop[['shop_id','mall_id']],how='left',on='shop_id')# 将shop_id和mall_id 合并\n",
    "df['time_stamp']=pd.to_datetime(df['time_stamp'])\n",
    "train=pd.concat([df,test])\n",
    "mall_list=list(set(list(shop.mall_id)))# 提取所有的商店\n",
    "result=pd.DataFrame()"
   ]
  },
  {
   "cell_type": "code",
   "execution_count": null,
   "metadata": {
    "collapsed": true
   },
   "outputs": [],
   "source": [
    "for mall in mall_list:\n",
    "    train1=train[train.mall_id==mall].reset_index(drop=True)       \n",
    "    l=[]\n",
    "    wifi_dict = {}\n",
    "    for index,row in train1.iterrows():\n",
    "        r = {}\n",
    "        wifi_list = [wifi.split('|') for wifi in row['wifi_infos'].split(';')]\n",
    "        for i in wifi_list:\n",
    "            r[i[0]]=int(i[1])\n",
    "            if i[0] not in wifi_dict:\n",
    "                wifi_dict[i[0]]=1\n",
    "            else:\n",
    "                wifi_dict[i[0]]+=1\n",
    "        l.append(r)    \n",
    "    delate_wifi=[]\n",
    "    for i in wifi_dict:\n",
    "        if wifi_dict[i]<20:\n",
    "            delate_wifi.append(i)\n",
    "    m=[]\n",
    "    for row in l:\n",
    "        new={}\n",
    "        for n in row.keys():\n",
    "            if n not in delate_wifi:\n",
    "                new[n]=row[n]\n",
    "        m.append(new)"
   ]
  },
  {
   "cell_type": "markdown",
   "metadata": {},
   "source": [
    "# 处理WiFi出现比较少WiFi名称"
   ]
  },
  {
   "cell_type": "code",
   "execution_count": null,
   "metadata": {
    "collapsed": true
   },
   "outputs": [],
   "source": []
  }
 ],
 "metadata": {
  "kernelspec": {
   "display_name": "Python 3",
   "language": "python",
   "name": "python3"
  },
  "language_info": {
   "codemirror_mode": {
    "name": "ipython",
    "version": 3
   },
   "file_extension": ".py",
   "mimetype": "text/x-python",
   "name": "python",
   "nbconvert_exporter": "python",
   "pygments_lexer": "ipython3",
   "version": "3.6.2"
  }
 },
 "nbformat": 4,
 "nbformat_minor": 2
}
