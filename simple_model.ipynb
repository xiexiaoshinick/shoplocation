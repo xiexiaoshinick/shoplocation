{
 "cells": [
  {
   "cell_type": "markdown",
   "metadata": {},
   "source": [
    "# simple_model"
   ]
  },
  {
   "cell_type": "code",
   "execution_count": 1,
   "metadata": {
    "collapsed": true
   },
   "outputs": [],
   "source": [
    "import pandas as pd\n",
    "import numpy as np\n",
    "from sklearn import  preprocessing\n",
    "import xgboost as xgb\n",
    "import lightgbm as lgb  "
   ]
  },
  {
   "cell_type": "code",
   "execution_count": 2,
   "metadata": {
    "collapsed": true
   },
   "outputs": [],
   "source": [
    "path='../data/'\n",
    "df=pd.read_csv(path+u'ccf_first_round_user_shop_behavior.csv')\n",
    "shop=pd.read_csv(path+u'ccf_first_round_shop_info.csv')\n",
    "test=pd.read_csv(path+u'evaluation_public.csv')\n",
    "df=pd.merge(df,shop[['shop_id','mall_id']],how='left',on='shop_id')# 将shop_id和mall_id 合并\n",
    "df['time_stamp']=pd.to_datetime(df['time_stamp'])\n",
    "train=pd.concat([df,test])\n",
    "mall_list=list(set(list(shop.mall_id)))# 提取所有的商店\n",
    "result=pd.DataFrame()"
   ]
  },
  {
   "cell_type": "code",
   "execution_count": null,
   "metadata": {
    "collapsed": true
   },
   "outputs": [],
   "source": [
    "for mall in mall_list:\n",
    "    train1=train[train.mall_id==mall].reset_index(drop=True)       \n",
    "    l=[]\n",
    "    wifi_dict = {}\n",
    "    for index,row in train1.iterrows():\n",
    "        r = {}\n",
    "        wifi_list = [wifi.split('|') for wifi in row['wifi_infos'].split(';')]\n",
    "        for i in wifi_list:\n",
    "            r[i[0]]=int(i[1])\n",
    "            if i[0] not in wifi_dict:\n",
    "                wifi_dict[i[0]]=1\n",
    "            else:\n",
    "                wifi_dict[i[0]]+=1\n",
    "        l.append(r)    \n",
    "    delate_wifi=[]\n",
    "    for i in wifi_dict:\n",
    "        if wifi_dict[i]<20:\n",
    "            delate_wifi.append(i)\n",
    "    m=[]\n",
    "    for row in l:\n",
    "        new={}\n",
    "        for n in row.keys():\n",
    "            if n not in delate_wifi:\n",
    "                new[n]=row[n]\n",
    "        m.append(new)"
   ]
  },
  {
   "cell_type": "markdown",
   "metadata": {},
   "source": [
    "处理WiFi出现比较少WiFi名称"
   ]
  },
  {
   "cell_type": "code",
   "execution_count": null,
   "metadata": {
    "collapsed": true
   },
   "outputs": [],
   "source": [
    " train1=pd.DataFrame(m)\n",
    "    df_train=train1[train1.shop_id.notnull()]\n",
    "    df_test=train1[train1.shop_id.isnull()]\n",
    "    lbl = preprocessing.LabelEncoder()\n",
    "    lbl.fit(list(df_train['shop_id'].values))\n",
    "    df_train['label'] = lbl.transform(list(df_train['shop_id'].values))    \n",
    "    num_class=df_train['label'].max()+1    \n",
    "    params = {\n",
    "            'objective': 'multi:softmax',\n",
    "            'eta': 0.1,\n",
    "            'max_depth': 9,\n",
    "            'eval_metric': 'merror',\n",
    "            'seed': 0,\n",
    "            'missing': -999,\n",
    "            'num_class':num_class,\n",
    "            'silent' : 1\n",
    "            }\n",
    "    feature=[x for x in train1.columns if x not in ['user_id','label','shop_id','time_stamp','mall_id','wifi_infos']]    \n",
    "    xgbtrain = xgb.DMatrix(df_train[feature], df_train['label'])\n",
    "    xgbtest = xgb.DMatrix(df_test[feature])\n",
    "    watchlist = [ (xgbtrain,'train'), (xgbtrain, 'test') ]\n",
    "    num_rounds=60\n",
    "    model = xgb.train(params, xgbtrain, num_rounds, watchlist, early_stopping_rounds=15)\n",
    "    df_test['label']=model.predict(xgbtest)\n",
    "    df_test['shop_id']=df_test['label'].apply(lambda x:lbl.inverse_transform(int(x)))\n",
    "    r=df_test[['row_id','shop_id']]\n",
    "    result=pd.concat([result,r])\n",
    "    result['row_id']=result['row_id'].astype('int')\n",
    "    result.to_csv(path+'sub.csv',index=False)"
   ]
  },
  {
   "cell_type": "markdown",
   "metadata": {},
   "source": [
    "文瑞要增加的时间处理"
   ]
  },
  {
   "cell_type": "code",
   "execution_count": null,
   "metadata": {
    "collapsed": true
   },
   "outputs": [],
   "source": [
    "def process_time(train):\n",
    "    print('时间处理...')\n",
    "    st_times = list(train['time_stamp'].values)\n",
    "    if np.nan in st_times:\n",
    "        st_times.remove(np.nan)\n",
    "    st_times = list(map(lambda x: time.strptime(x.split('.')[0], '%Y-%m-%d %H:%M'), st_times))\n",
    "    time_min = []\n",
    "    time_day = []\n",
    "    #工作日是1，周末是0\n",
    "    for timet in st_times:\n",
    "        if timet.tm_wday==0 or timet.tm_wday==6:\n",
    "            time_day.append(0)\n",
    "        else:\n",
    "            time_day.append(1)\n",
    "        time_min.append(timet.tm_hour * 60 + timet.tm_min)\n",
    "    train.loc[:, 'minutes'] = time_min\n",
    "    train.loc[:, 'wday'] = time_day"
   ]
  }
 ],
 "metadata": {
  "kernelspec": {
   "display_name": "Python 3",
   "language": "python",
   "name": "python3"
  },
  "language_info": {
   "codemirror_mode": {
    "name": "ipython",
    "version": 3
   },
   "file_extension": ".py",
   "mimetype": "text/x-python",
   "name": "python",
   "nbconvert_exporter": "python",
   "pygments_lexer": "ipython3",
   "version": "3.6.2"
  }
 },
 "nbformat": 4,
 "nbformat_minor": 2
}
